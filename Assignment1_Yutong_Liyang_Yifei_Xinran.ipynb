{
 "cells": [
  {
   "cell_type": "code",
   "execution_count": 153,
   "id": "dda96f6e",
   "metadata": {},
   "outputs": [],
   "source": [
    "import pandas as pd\n",
    "from scipy.stats import ttest_ind\n",
    "import numpy as np"
   ]
  },
  {
   "cell_type": "markdown",
   "id": "186aeb5b",
   "metadata": {},
   "source": [
    "## Data"
   ]
  },
  {
   "cell_type": "code",
   "execution_count": 154,
   "id": "08fe7f58",
   "metadata": {},
   "outputs": [],
   "source": [
    "data = pd.read_csv('AB_test_data.csv')"
   ]
  },
  {
   "cell_type": "markdown",
   "id": "ef727aa9",
   "metadata": {},
   "source": []
  },
  {
   "cell_type": "markdown",
   "id": "0941ba5e",
   "metadata": {},
   "source": []
  },
  {
   "cell_type": "markdown",
   "id": "845288af",
   "metadata": {},
   "source": []
  },
  {
   "cell_type": "code",
   "execution_count": 155,
   "id": "09aceef2",
   "metadata": {},
   "outputs": [
    {
     "data": {
      "text/html": [
       "<div>\n",
       "<style scoped>\n",
       "    .dataframe tbody tr th:only-of-type {\n",
       "        vertical-align: middle;\n",
       "    }\n",
       "\n",
       "    .dataframe tbody tr th {\n",
       "        vertical-align: top;\n",
       "    }\n",
       "\n",
       "    .dataframe thead th {\n",
       "        text-align: right;\n",
       "    }\n",
       "</style>\n",
       "<table border=\"1\" class=\"dataframe\">\n",
       "  <thead>\n",
       "    <tr style=\"text-align: right;\">\n",
       "      <th></th>\n",
       "      <th>purchase_TF</th>\n",
       "      <th>Variant</th>\n",
       "      <th>date</th>\n",
       "      <th>id</th>\n",
       "    </tr>\n",
       "  </thead>\n",
       "  <tbody>\n",
       "    <tr>\n",
       "      <th>0</th>\n",
       "      <td>False</td>\n",
       "      <td>A</td>\n",
       "      <td>2019/11/8</td>\n",
       "      <td>0x25b44a</td>\n",
       "    </tr>\n",
       "    <tr>\n",
       "      <th>1</th>\n",
       "      <td>False</td>\n",
       "      <td>B</td>\n",
       "      <td>2020/8/27</td>\n",
       "      <td>0x46271e</td>\n",
       "    </tr>\n",
       "    <tr>\n",
       "      <th>2</th>\n",
       "      <td>False</td>\n",
       "      <td>A</td>\n",
       "      <td>2020/6/11</td>\n",
       "      <td>0x80b8f1</td>\n",
       "    </tr>\n",
       "    <tr>\n",
       "      <th>3</th>\n",
       "      <td>False</td>\n",
       "      <td>B</td>\n",
       "      <td>2020/8/22</td>\n",
       "      <td>0x8d736d</td>\n",
       "    </tr>\n",
       "    <tr>\n",
       "      <th>4</th>\n",
       "      <td>False</td>\n",
       "      <td>A</td>\n",
       "      <td>2020/8/5</td>\n",
       "      <td>0x96c9c8</td>\n",
       "    </tr>\n",
       "  </tbody>\n",
       "</table>\n",
       "</div>"
      ],
      "text/plain": [
       "   purchase_TF Variant       date        id\n",
       "0        False       A  2019/11/8  0x25b44a\n",
       "1        False       B  2020/8/27  0x46271e\n",
       "2        False       A  2020/6/11  0x80b8f1\n",
       "3        False       B  2020/8/22  0x8d736d\n",
       "4        False       A   2020/8/5  0x96c9c8"
      ]
     },
     "execution_count": 155,
     "metadata": {},
     "output_type": "execute_result"
    }
   ],
   "source": [
    "data.head()"
   ]
  },
  {
   "cell_type": "code",
   "execution_count": 156,
   "id": "ec5c04b9",
   "metadata": {},
   "outputs": [
    {
     "data": {
      "text/plain": [
       "A    125000\n",
       "B      5000\n",
       "Name: Variant, dtype: int64"
      ]
     },
     "execution_count": 156,
     "metadata": {},
     "output_type": "execute_result"
    }
   ],
   "source": [
    "data['Variant'].value_counts()"
   ]
  },
  {
   "cell_type": "code",
   "execution_count": 157,
   "id": "2456e00e",
   "metadata": {},
   "outputs": [
    {
     "data": {
      "text/plain": [
       "False    110415\n",
       "True      19585\n",
       "Name: purchase_TF, dtype: int64"
      ]
     },
     "execution_count": 157,
     "metadata": {},
     "output_type": "execute_result"
    }
   ],
   "source": [
    "data['purchase_TF'].value_counts()"
   ]
  },
  {
   "cell_type": "code",
   "execution_count": 158,
   "id": "b6dcc829",
   "metadata": {},
   "outputs": [
    {
     "data": {
      "text/plain": [
       "purchase_TF  Variant\n",
       "False        A          106298\n",
       "True         A           18702\n",
       "False        B            4117\n",
       "True         B             883\n",
       "dtype: int64"
      ]
     },
     "execution_count": 158,
     "metadata": {},
     "output_type": "execute_result"
    }
   ],
   "source": [
    "data[['purchase_TF','Variant']].value_counts()"
   ]
  },
  {
   "cell_type": "code",
   "execution_count": 159,
   "id": "515d8847",
   "metadata": {},
   "outputs": [],
   "source": [
    "data['purchase_TF'] = data['purchase_TF'].apply(lambda x:1 if x == True else 0)\n"
   ]
  },
  {
   "cell_type": "code",
   "execution_count": 160,
   "id": "5f51009e",
   "metadata": {},
   "outputs": [
    {
     "data": {
      "text/plain": [
       "0    110415\n",
       "1     19585\n",
       "Name: purchase_TF, dtype: int64"
      ]
     },
     "execution_count": 160,
     "metadata": {},
     "output_type": "execute_result"
    }
   ],
   "source": [
    "data['purchase_TF'].value_counts()"
   ]
  },
  {
   "cell_type": "markdown",
   "id": "f7581d87",
   "metadata": {},
   "source": [
    "### 1. Conduct an A/B test to determine whether Alternative B improved conversion rates (siteusers book the property) over alternative A."
   ]
  },
  {
   "cell_type": "code",
   "execution_count": 161,
   "id": "f4650273",
   "metadata": {},
   "outputs": [],
   "source": [
    "mean0 = np.mean(data[data['Variant']=='A']['purchase_TF'])\n",
    "mean1 = np.mean(data[data['Variant']=='B']['purchase_TF'])\n",
    "diff = mean1 - mean0\n",
    "mean_total = (mean0 + mean1)/2\n",
    "\n",
    "sd0 = data[data['Variant']=='A']['purchase_TF'].std()\n",
    "sd1 = data[data['Variant']=='B']['purchase_TF'].std()\n",
    "sd_avg = (sd0 + sd1)/2\n",
    "n0 = data[data['Variant']=='A']['purchase_TF'].shape[0]\n",
    "n1 = data[data['Variant']=='B']['purchase_TF'].shape[0]"
   ]
  },
  {
   "cell_type": "code",
   "execution_count": 162,
   "id": "37a553fe",
   "metadata": {},
   "outputs": [
    {
     "data": {
      "text/plain": [
       "0.026984000000000008"
      ]
     },
     "execution_count": 162,
     "metadata": {},
     "output_type": "execute_result"
    }
   ],
   "source": [
    "diff"
   ]
  },
  {
   "cell_type": "code",
   "execution_count": 163,
   "id": "1033b91e",
   "metadata": {},
   "outputs": [
    {
     "data": {
      "text/plain": [
       "Ttest_indResult(statistic=-4.917887949732089, pvalue=9.009730353157316e-07)"
      ]
     },
     "execution_count": 163,
     "metadata": {},
     "output_type": "execute_result"
    }
   ],
   "source": [
    "ttest_ind(data[data['Variant']=='A']['purchase_TF'], data[data['Variant']=='B']['purchase_TF'],equal_var = False)\n"
   ]
  },
  {
   "cell_type": "markdown",
   "id": "e7127c62",
   "metadata": {},
   "source": [
    "### 2. Calculate the optimal sample size for a 95% confidence rate and test with 80% power.Conduct the test 10 times using samples of the optimal size. Report results"
   ]
  },
  {
   "cell_type": "markdown",
   "id": "bf8853c7",
   "metadata": {},
   "source": [
    "probability of type II error = 0.2\n",
    "use this to calculate minimum detectable effect for the whole \n"
   ]
  },
  {
   "cell_type": "code",
   "execution_count": 164,
   "id": "5660bbb2",
   "metadata": {},
   "outputs": [],
   "source": [
    "# ATE_STD=np.sqrt(sd1**2/n1+sd0**2/n0)"
   ]
  },
  {
   "cell_type": "code",
   "execution_count": 165,
   "id": "141f7a0f",
   "metadata": {},
   "outputs": [],
   "source": [
    "# effect = (0.2 * ATE_STD)/diff\n",
    "# effect\n",
    "#The minimum detectable effect of the dataset is aound 0.04 withnot equal size control and treatment group\n",
    "#For convinience, the optimal sample size will be calculated with the average of the control group's data and the treatment group's data.\n",
    "#0.1 will be used as the minimum detectable effect\n",
    "#And equal size data of different groups will be used in the further testing "
   ]
  },
  {
   "cell_type": "markdown",
   "id": "4ab378b8",
   "metadata": {},
   "source": []
  },
  {
   "cell_type": "code",
   "execution_count": 166,
   "id": "b922f1cb",
   "metadata": {},
   "outputs": [],
   "source": [
    "n = 2*(1.96 + 0.84)**2 * (sd_avg/0.03)**2"
   ]
  },
  {
   "cell_type": "code",
   "execution_count": 167,
   "id": "b4f436ea",
   "metadata": {
    "scrolled": true
   },
   "outputs": [
    {
     "data": {
      "text/plain": [
       "2938"
      ]
     },
     "execution_count": 167,
     "metadata": {},
     "output_type": "execute_result"
    }
   ],
   "source": [
    "sample_size = int((1.96*np.sqrt(2*mean_total*(1-mean_total)) + 0.84 *np.sqrt(mean0 * (1-mean0) + mean1 * (1-mean1)))**2 *1/(diff**2))\n",
    "sample_size\n"
   ]
  },
  {
   "cell_type": "markdown",
   "id": "42156f17",
   "metadata": {},
   "source": [
    "use 2938 as the optimal sample size for convience\n",
    "for Conduct the test 10 times using samples of the optimal size:\n",
    "randomly select 2938 samples from both treatment and control group for 10 tims and conduct test"
   ]
  },
  {
   "cell_type": "code",
   "execution_count": 168,
   "id": "72b77f9f",
   "metadata": {},
   "outputs": [
    {
     "name": "stdout",
     "output_type": "stream",
     "text": [
      "Ttest_indResult(statistic=-1.8557253958456634, pvalue=0.0635428556011029)\n",
      "Ttest_indResult(statistic=-1.9829930856885856, pvalue=0.0474148001195071)\n",
      "Ttest_indResult(statistic=-3.069044843620316, pvalue=0.002157287907781532)\n",
      "Ttest_indResult(statistic=-3.7165323768969865, pvalue=0.00020386863045311228)\n",
      "Ttest_indResult(statistic=-3.6208601566855703, pvalue=0.00029611896564574593)\n",
      "Ttest_indResult(statistic=-1.3863647469613187, pvalue=0.16568822528439978)\n",
      "Ttest_indResult(statistic=-3.404530739847119, pvalue=0.0006672445740035767)\n",
      "Ttest_indResult(statistic=-2.8533584159677545, pvalue=0.004341180243748014)\n",
      "Ttest_indResult(statistic=-3.0173312942642014, pvalue=0.0025610996572183334)\n",
      "Ttest_indResult(statistic=-2.1087879646615133, pvalue=0.03500521429655828)\n"
     ]
    }
   ],
   "source": [
    "i = 0\n",
    "while i < 10:\n",
    "    A_data = data[data['Variant']=='A'].sample(n=sample_size, frac=None, replace=False,  weights=None, random_state=i*10, axis=None)\n",
    "    B_data = data[data['Variant']=='B'].sample(n=sample_size, frac=None, replace=False,  weights=None, random_state=i*10, axis=None)\n",
    "    print(ttest_ind(A_data['purchase_TF'],B_data['purchase_TF'],equal_var = False))\n",
    "    i += 1"
   ]
  },
  {
   "cell_type": "code",
   "execution_count": null,
   "id": "bd46d005",
   "metadata": {},
   "outputs": [],
   "source": []
  },
  {
   "cell_type": "markdown",
   "id": "add3d446",
   "metadata": {},
   "source": [
    "### 3. Conduct a sequential test for the 10 samples. For any of the samples, were you able to stop the test prior to using the full sample? What was the average number of iterations required to stop the test?"
   ]
  },
  {
   "cell_type": "code",
   "execution_count": 169,
   "id": "bf5e3973",
   "metadata": {},
   "outputs": [],
   "source": [
    "import math"
   ]
  },
  {
   "cell_type": "code",
   "execution_count": 170,
   "id": "58a9e91c",
   "metadata": {},
   "outputs": [],
   "source": [
    "ln_a = math.log(1/0.05)\n",
    "ln_b = math.log(0.2)\n"
   ]
  },
  {
   "cell_type": "code",
   "execution_count": 171,
   "id": "dc20e8c0",
   "metadata": {},
   "outputs": [],
   "source": [
    "# H0: B-A = 0\n",
    "# Ha: B-A > 0\n",
    "# if B-A = 1 : ln(mean1/mean0)\n",
    "# if B-A < 1 : ln((1-mean1)/mean0)"
   ]
  },
  {
   "cell_type": "code",
   "execution_count": 145,
   "id": "4f586cc6",
   "metadata": {
    "scrolled": true
   },
   "outputs": [],
   "source": [
    "# i = 0\n",
    "# ln = 0\n",
    "# while i < 10:\n",
    "#     ln_lambda = 0\n",
    "#     j = 0\n",
    "#     A_data = data[data['Variant']=='A'].sample(n=sample_size, frac=None, replace=False,  weights=None, random_state=i*1000, axis=None)\n",
    "#     mean0 = np.mean(A_data['purchase_TF'])\n",
    "#     B_data = data[data['Variant']=='B'].sample(n=sample_size, frac=None, replace=False,  weights=None, random_state=i*1000, axis=None)\n",
    "#     mean1 = np.mean(B_data['purchase_TF'])\n",
    "#     while j < 2900:\n",
    "#         d = int(B_data['purchase_TF'][j:j+1]) - int(A_data['purchase_TF'][j:j+1])\n",
    "#         if d == 1:\n",
    "#             ln = math.log(mean1/mean0)\n",
    "#         elif d < 1:\n",
    "#             ln = math.log((1-mean1)/(1-mean0))\n",
    "#         ln_lambda += ln\n",
    "#         if ln_lambda <= ln_b:\n",
    "#             print('this is sample ',i,', trail ',j ,' not reject H0')\n",
    "#             print(ln_lambda)\n",
    "#             break\n",
    "#         elif ln_lambda >= ln_a:\n",
    "#             print('this is sample ',i,', trail ',j, ' reject H0')\n",
    "#             print(ln_lambda)\n",
    "#             break\n",
    "            \n",
    "#         j += 1\n",
    "#     i += 1"
   ]
  },
  {
   "cell_type": "code",
   "execution_count": 146,
   "id": "cb327609",
   "metadata": {},
   "outputs": [],
   "source": [
    "# i = 0\n",
    "# ln = 0\n",
    "# while i < 10:\n",
    "#     ln_lambda = 0\n",
    "#     j = 0\n",
    "#     A_data = data[data['Variant']=='A'].sample(n=sample_size, frac=None, replace=False,  weights=None, random_state=i, axis=None)\n",
    "#     B_data = data[data['Variant']=='B'].sample(n=sample_size, frac=None, replace=False,  weights=None, random_state=i, axis=None)\n",
    "#     while j < 2400:\n",
    "#         print(int(B_data['purchase_TF'][j:j+1]),int(A_data['purchase_TF'][j:j+1]))\n",
    "#         d = int(B_data['purchase_TF'][j:j+1]) - int(A_data['purchase_TF'][j:j+1])\n",
    "#         if int(B_data['purchase_TF'][j:j+1]) == 1 and int(A_data['purchase_TF'][j:j+1]) == 1:\n",
    "#             ln = math.log(mean1/mean0)\n",
    "#         elif int(B_data['purchase_TF'][j:j+1]) == 0 and int(A_data['purchase_TF'][j:j+1]) == 0:\n",
    "#             ln = math.log((1-mean1)/(1-mean0))\n",
    "#         elif int(B_data['purchase_TF'][j:j+1]) == 1 and int(A_data['purchase_TF'][j:j+1]) == 0:\n",
    "#             ln = math.log((mean1)/(1-mean0))\n",
    "#         elif int(B_data['purchase_TF'][j:j+1]) == 0 and int(A_data['purchase_TF'][j:j+1]) == 1:\n",
    "#             ln = math.log((1-mean1)/(mean0))\n",
    "#         ln_lambda += ln\n",
    "#         if ln_lambda <= ln_b:\n",
    "#             print('this is sample ',i,', trail ',j ,' not reject H0')\n",
    "#             break\n",
    "#         elif ln_lambda >= ln_a:\n",
    "#             print('this is sample ',i,', trail ',j, ' reject H0')\n",
    "#             break\n",
    "            \n",
    "#         j += 1\n",
    "#     i += 1"
   ]
  },
  {
   "cell_type": "code",
   "execution_count": 147,
   "id": "204b2114",
   "metadata": {},
   "outputs": [],
   "source": [
    "# i = 0\n",
    "# ln = 0\n",
    "# while i < 10:\n",
    "#     ln_lambda = 0\n",
    "#     j = 0\n",
    "#     A_data = data[data['Variant']=='A'].sample(n=sample_size, frac=None, replace=False,  weights=None, random_state=i*10, axis=None)\n",
    "#     mean0 = np.mean(A_data['purchase_TF'])\n",
    "#     B_data = data[data['Variant']=='B'].sample(n=sample_size, frac=None, replace=False,  weights=None, random_state=i*10, axis=None)\n",
    "#     mean1 = np.mean(B_data['purchase_TF'])\n",
    "#     while j < 2400:\n",
    "#         d = int(B_data['purchase_TF'][j:j+1]) - int(A_data['purchase_TF'][j:j+1])\n",
    "#         if d == 1:\n",
    "#             ln = math.log(mean1/mean0)\n",
    "#         elif d < 1:\n",
    "#             ln = math.log((1-mean1)/(1-mean0))\n",
    "#         ln_lambda += ln\n",
    "#         if ln_lambda <= ln_b:\n",
    "#             print('this is sample ',i,', trail ',j ,' not reject H0')\n",
    "#             break\n",
    "#         elif ln_lambda >= ln_a:\n",
    "#             print('this is sample ',i,', trail ',j, ' reject H0')\n",
    "#             break\n",
    "            \n",
    "#         j += 1\n",
    "#     i += 1"
   ]
  },
  {
   "cell_type": "code",
   "execution_count": 148,
   "id": "036ef2e9",
   "metadata": {},
   "outputs": [
    {
     "data": {
      "text/plain": [
       "0.9682684528401286"
      ]
     },
     "execution_count": 148,
     "metadata": {},
     "output_type": "execute_result"
    }
   ],
   "source": [
    "a = (1/0.05)\n",
    "b = (0.2)\n",
    "((1-mean1)/(1-mean0))"
   ]
  },
  {
   "cell_type": "code",
   "execution_count": 149,
   "id": "db8c16ab",
   "metadata": {},
   "outputs": [],
   "source": [
    "# i = 0\n",
    "# ln = 0\n",
    "# while i < 10:\n",
    "#     ln_lambda = 1\n",
    "#     j = 0\n",
    "#     A_data = data[data['Variant']=='A'].sample(n=sample_size, frac=None, replace=False,  weights=None, random_state=i*10, axis=None)\n",
    "#     B_data = data[data['Variant']=='B'].sample(n=sample_size, frac=None, replace=False,  weights=None, random_state=i*10, axis=None)\n",
    "#     while j < 2400:\n",
    "#         print(int(B_data['purchase_TF'][j:j+1]),int(A_data['purchase_TF'][j:j+1]))\n",
    "#         d = int(B_data['purchase_TF'][j:j+1]) - int(A_data['purchase_TF'][j:j+1])\n",
    "#         if int(B_data['purchase_TF'][j:j+1]) == 1 and int(A_data['purchase_TF'][j:j+1]) == 1:\n",
    "#             ln = (mean1/mean0)\n",
    "#         elif int(B_data['purchase_TF'][j:j+1]) == 0 and int(A_data['purchase_TF'][j:j+1]) == 0:\n",
    "#             ln = ((1-mean1)/(1-mean0))\n",
    "#         elif int(B_data['purchase_TF'][j:j+1]) == 1 and int(A_data['purchase_TF'][j:j+1]) == 0:\n",
    "#             ln = ((mean1)/(1-mean0))\n",
    "#         elif int(B_data['purchase_TF'][j:j+1]) == 0 and int(A_data['purchase_TF'][j:j+1]) == 1:\n",
    "#             ln = ((1-mean1)/(mean0))\n",
    "#         ln_lambda *= ln\n",
    "#         print(ln_lambda)\n",
    "#         if ln_lambda <= b:\n",
    "#             print('this is sample ',i,', trail ',j ,' not reject H0')\n",
    "#             break\n",
    "#         elif ln_lambda >= a:\n",
    "#             print('this is sample ',i,', trail ',j, ' reject H0')\n",
    "#             break\n",
    "            \n",
    "#         j += 1\n",
    "#     i += 1"
   ]
  },
  {
   "cell_type": "code",
   "execution_count": 150,
   "id": "48ee97c7",
   "metadata": {},
   "outputs": [],
   "source": [
    "# 如果都是1或者都是0 则h0\n",
    "# 如果一个B1A0则 mean1/mean0\n",
    "# 如果b0a1则 "
   ]
  },
  {
   "cell_type": "code",
   "execution_count": 151,
   "id": "9bdb21a8",
   "metadata": {},
   "outputs": [
    {
     "data": {
      "text/plain": [
       "-1.5718007240054335"
      ]
     },
     "execution_count": 151,
     "metadata": {},
     "output_type": "execute_result"
    }
   ],
   "source": [
    "math.log((mean1)/(1-mean0))"
   ]
  },
  {
   "cell_type": "code",
   "execution_count": null,
   "id": "8d14c435",
   "metadata": {},
   "outputs": [],
   "source": [
    "H0: mean(treatment) = mean(control)\n",
    "H1: >"
   ]
  },
  {
   "cell_type": "code",
   "execution_count": 172,
   "id": "736e82c5",
   "metadata": {},
   "outputs": [
    {
     "name": "stdout",
     "output_type": "stream",
     "text": [
      "this is sample  0 , trail  2303  reject H0\n",
      "3.0466561000371057\n",
      "this is sample  1 , trail  531  reject H0\n",
      "3.0062362337396453\n",
      "this is sample  2 , trail  558  reject H0\n",
      "3.01908049756464\n",
      "this is sample  3 , trail  856  reject H0\n",
      "3.019227094190434\n",
      "this is sample  4 , trail  2294  reject H0\n",
      "3.099012531390155\n",
      "this is sample  5 , trail  256  reject H0\n",
      "3.106548470963303\n",
      "this is sample  6 , trail  320  reject H0\n",
      "3.1424214697156443\n",
      "this is sample  7 , trail  248  reject H0\n",
      "3.057703358577012\n",
      "this is sample  8 , trail  814  reject H0\n",
      "3.0248527553864113\n",
      "this is sample  9 , trail  463  reject H0\n",
      "3.030350183012101\n"
     ]
    }
   ],
   "source": [
    "i = 0\n",
    "ln = 0\n",
    "sample_number = 0\n",
    "while i < 10:\n",
    "    ln_lambda = 0\n",
    "    j = 0\n",
    "    A_data = data[data['Variant']=='A'].sample(n=sample_size, frac=None, replace=False,  weights=None, random_state=i*1000, axis=None)\n",
    "    mean0 = np.mean(A_data['purchase_TF'])\n",
    "    B_data = data[data['Variant']=='B'].sample(n=sample_size, frac=None, replace=False,  weights=None, random_state=i*1000, axis=None)\n",
    "    mean1 = np.mean(B_data['purchase_TF'])\n",
    "    while j < 2900:\n",
    "        d = int(B_data['purchase_TF'][j:j+1]) \n",
    "        if d == 1:\n",
    "            ln = math.log(mean1/mean0)\n",
    "        elif d < 1:\n",
    "            ln = math.log((1-mean1)/(1-mean0))\n",
    "        ln_lambda += ln\n",
    "        if ln_lambda <= ln_b:\n",
    "            print('this is sample ',i,', trail ',j ,' not reject H0')\n",
    "            print(ln_lambda)\n",
    "            sample_number += j\n",
    "            break\n",
    "        elif ln_lambda >= ln_a:\n",
    "            print('this is sample ',i,', trail ',j, ' reject H0')\n",
    "            print(ln_lambda)\n",
    "            sample_number += j\n",
    "            break\n",
    "            \n",
    "        j += 1\n",
    "    i += 1"
   ]
  },
  {
   "cell_type": "markdown",
   "id": "5bd471e1",
   "metadata": {},
   "source": []
  },
  {
   "cell_type": "code",
   "execution_count": 173,
   "id": "5a10a68f",
   "metadata": {},
   "outputs": [
    {
     "data": {
      "text/plain": [
       "864.3"
      ]
     },
     "execution_count": 173,
     "metadata": {},
     "output_type": "execute_result"
    }
   ],
   "source": [
    "sample_number/10"
   ]
  },
  {
   "cell_type": "code",
   "execution_count": null,
   "id": "dfb2c43c",
   "metadata": {},
   "outputs": [],
   "source": []
  }
 ],
 "metadata": {
  "kernelspec": {
   "display_name": "Python 3",
   "language": "python",
   "name": "python3"
  },
  "language_info": {
   "codemirror_mode": {
    "name": "ipython",
    "version": 3
   },
   "file_extension": ".py",
   "mimetype": "text/x-python",
   "name": "python",
   "nbconvert_exporter": "python",
   "pygments_lexer": "ipython3",
   "version": "3.8.8"
  }
 },
 "nbformat": 4,
 "nbformat_minor": 5
}
